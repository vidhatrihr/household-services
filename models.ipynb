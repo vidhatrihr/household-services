{
 "cells": [
  {
   "cell_type": "code",
   "execution_count": 1,
   "metadata": {},
   "outputs": [],
   "source": [
    "from app import app\n",
    "from models import *"
   ]
  },
  {
   "cell_type": "code",
   "execution_count": 17,
   "metadata": {},
   "outputs": [
    {
     "name": "stdout",
     "output_type": "stream",
     "text": [
      "Pranav Patel works for Plumbing services\n",
      "Priya Verma works for Home Improvement\n"
     ]
    }
   ],
   "source": [
    "with app.app_context():\n",
    "  name_of_city = 'Mumbai'\n",
    "\n",
    "  city_id = City.query.filter_by(name=name_of_city).first().id\n",
    "  users = User.query.filter_by(type='professional', city_id=city_id).all()\n",
    "\n",
    "  for user in users:\n",
    "    print(f'{user.full_name} works for {user.professional.service_category.name}')"
   ]
  },
  {
   "cell_type": "code",
   "execution_count": 21,
   "metadata": {},
   "outputs": [
    {
     "name": "stdout",
     "output_type": "stream",
     "text": [
      "Pranav Patel works for Plumbing services\n",
      "Priya Verma works for Home Improvement\n"
     ]
    }
   ],
   "source": [
    "with app.app_context():\n",
    "  name_of_city = 'Mumbai'\n",
    "\n",
    "  users = User.query.join(City).filter(\n",
    "      User.type == 'professional',\n",
    "      City.name == name_of_city\n",
    "  ).all()\n",
    "\n",
    "  for user in users:\n",
    "    print(f'{user.full_name} works for {user.professional.service_category.name}')"
   ]
  },
  {
   "cell_type": "code",
   "execution_count": 38,
   "metadata": {},
   "outputs": [
    {
     "name": "stdout",
     "output_type": "stream",
     "text": [
      "Pranav Patel works for Plumbing services\n"
     ]
    }
   ],
   "source": [
    "with app.app_context():\n",
    "  # i want professionals with:\n",
    "  name_of_city = 'Mumbai'\n",
    "  cat_id = 1\n",
    "\n",
    "  professionals = (\n",
    "      Professional.query\n",
    "      .join(ServiceCategory)\n",
    "      .join(User)\n",
    "      .join(City)\n",
    "      .filter(\n",
    "          ServiceCategory.id == cat_id,\n",
    "          City.name == name_of_city\n",
    "      ).all()\n",
    "  )\n",
    "\n",
    "  for professional in professionals:\n",
    "    print(f'{professional.user.full_name} works for {professional.service_category.name}')"
   ]
  },
  {
   "cell_type": "code",
   "execution_count": 42,
   "metadata": {},
   "outputs": [
    {
     "name": "stdout",
     "output_type": "stream",
     "text": [
      "Pranav Patel works for Plumbing services\n"
     ]
    }
   ],
   "source": [
    "with app.app_context():\n",
    "  # i want professionals with:\n",
    "  name_of_city = 'Mumbai'\n",
    "  cat_id = 1\n",
    "\n",
    "  users = (\n",
    "      User.query\n",
    "      .join(Professional)\n",
    "      .join(ServiceCategory)\n",
    "      .join(City)\n",
    "      .filter(\n",
    "          ServiceCategory.id == cat_id,\n",
    "          City.name == name_of_city\n",
    "      ).all()\n",
    "  )\n",
    "\n",
    "  for user in users:\n",
    "    print(f'{user.full_name} works for {user.professional.service_category.name}')"
   ]
  }
 ],
 "metadata": {
  "kernelspec": {
   "display_name": "Python 3",
   "language": "python",
   "name": "python3"
  },
  "language_info": {
   "codemirror_mode": {
    "name": "ipython",
    "version": 3
   },
   "file_extension": ".py",
   "mimetype": "text/x-python",
   "name": "python",
   "nbconvert_exporter": "python",
   "pygments_lexer": "ipython3",
   "version": "3.12.6"
  }
 },
 "nbformat": 4,
 "nbformat_minor": 2
}
