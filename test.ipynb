{
 "cells": [
  {
   "cell_type": "code",
   "execution_count": 13,
   "metadata": {},
   "outputs": [],
   "source": [
    "from flask import Flask\n",
    "from sqlalchemy import Column, String, Integer, ForeignKey, DateTime\n",
    "from sqlalchemy.orm import relationship\n",
    "from flask_sqlalchemy import SQLAlchemy"
   ]
  },
  {
   "cell_type": "markdown",
   "metadata": {},
   "source": [
    "# make app and db setup"
   ]
  },
  {
   "cell_type": "code",
   "execution_count": 14,
   "metadata": {},
   "outputs": [],
   "source": [
    "db = SQLAlchemy()"
   ]
  },
  {
   "cell_type": "code",
   "execution_count": 15,
   "metadata": {},
   "outputs": [],
   "source": [
    "app = Flask(__name__)\n",
    "app.config['SQLALCHEMY_DATABASE_URI'] = 'sqlite:///'\n",
    "db.init_app(app)"
   ]
  },
  {
   "cell_type": "markdown",
   "metadata": {},
   "source": [
    "# Models"
   ]
  },
  {
   "cell_type": "code",
   "execution_count": null,
   "metadata": {},
   "outputs": [],
   "source": [
    "class User(db.Model):\n",
    "  __tablename__ = 'users'\n",
    "  id = Column(Integer, primary_key=True, autoincrement=True)\n",
    "  email = Column(String, unique=True)\n",
    "  password = Column(String)\n",
    "  type = Column(String)\n",
    "  full_name = Column(String)\n",
    "  address = Column(String)\n",
    "  pin_code = Column(String)\n",
    "  city_id = Column(Integer, ForeignKey('cities.id'))\n",
    "  city = relationship('City', back_populates='users')\n",
    "  customer = relationship('Customer', back_populates='user', uselist=False)\n",
    "  professional = relationship('Professional', back_populates='user', uselist=False)\n",
    "  admin = relationship('Admin', back_populates='user', uselist=False)"
   ]
  },
  {
   "cell_type": "code",
   "execution_count": null,
   "metadata": {},
   "outputs": [],
   "source": [
    "class City(db.Model):\n",
    "  __tablename__ = 'cities'\n",
    "  id = Column(Integer, primary_key=True, autoincrement=True)\n",
    "  name = Column(String)\n",
    "  users = relationship('User', back_populates='city')"
   ]
  },
  {
   "cell_type": "code",
   "execution_count": 18,
   "metadata": {},
   "outputs": [],
   "source": [
    "class Customer(db.Model):\n",
    "  __tablename__ = 'customers'\n",
    "  id = Column(Integer, primary_key=True, autoincrement=True)\n",
    "  user_id = Column(Integer, ForeignKey('users.id'))\n",
    "  user = relationship('User', back_populates='customer')\n",
    "  service_requests = relationship('ServiceRequest', back_populates='customer')\n",
    "\n",
    "\n",
    "class Professional(db.Model):\n",
    "  __tablename__ = 'professionals'\n",
    "  id = Column(Integer, primary_key=True, autoincrement=True)\n",
    "  user_id = Column(Integer, ForeignKey('users.id'))\n",
    "  service_category_id = Column(Integer, ForeignKey('service_categories.id'))\n",
    "  user = relationship('User', back_populates='professional')\n",
    "  service_category = relationship('ServiceCategory', back_populates='professionals')\n",
    "  service_requests = relationship('ServiceRequest', back_populates='professional')\n",
    "\n",
    "\n",
    "class Admin(db.Model):\n",
    "  __tablename__ = 'admins'\n",
    "  id = Column(Integer, primary_key=True, autoincrement=True)\n",
    "  user_id = Column(Integer, ForeignKey('users.id'))\n",
    "  user = relationship('User', back_populates='admin')"
   ]
  },
  {
   "cell_type": "code",
   "execution_count": 19,
   "metadata": {},
   "outputs": [],
   "source": [
    "class ServiceCategory(db.Model):\n",
    "  __tablename__ = 'service_categories'\n",
    "  id = Column(Integer, primary_key=True, autoincrement=True)\n",
    "  name = Column(String)\n",
    "  professionals = relationship('Professional', back_populates='service_category')\n",
    "  services = relationship('Service', back_populates='service_category')\n",
    "\n",
    "\n",
    "class Service(db.Model):\n",
    "  __tablename__ = 'services'\n",
    "  id = Column(Integer, primary_key=True, autoincrement=True)\n",
    "  name = Column(String)\n",
    "  price = Column(Integer)\n",
    "  service_category_id = Column(Integer, ForeignKey('service_categories.id'))\n",
    "  service_category = relationship('ServiceCategory', back_populates='services')\n",
    "  service_requests = relationship('ServiceRequest', back_populates='service')\n",
    "\n",
    "\n",
    "class ServiceRequest(db.Model):\n",
    "  __tablename__ = 'service_requests'\n",
    "  id = Column(Integer, primary_key=True, autoincrement=True)\n",
    "  customer_id = Column(Integer, ForeignKey('customers.id'))\n",
    "  service_id = Column(Integer, ForeignKey('services.id'))\n",
    "  description = Column(String)\n",
    "  professional_id = Column(Integer, ForeignKey('professionals.id'))\n",
    "  status = Column(String)\n",
    "  created_date = Column(DateTime)\n",
    "  booking_date = Column(DateTime)\n",
    "  ratings = Column(Integer)\n",
    "  remarks = Column(String)\n",
    "\n",
    "  customer = relationship('Customer', back_populates='service_requests')\n",
    "  service = relationship('Service', back_populates='service_requests')\n",
    "  professional = relationship('Professional', back_populates='service_requests')"
   ]
  },
  {
   "cell_type": "markdown",
   "metadata": {},
   "source": [
    "# make tables"
   ]
  },
  {
   "cell_type": "code",
   "execution_count": 20,
   "metadata": {},
   "outputs": [],
   "source": [
    "with app.app_context():\n",
    "  db.create_all()"
   ]
  },
  {
   "cell_type": "markdown",
   "metadata": {},
   "source": [
    "# populate data"
   ]
  },
  {
   "cell_type": "code",
   "execution_count": 21,
   "metadata": {},
   "outputs": [
    {
     "name": "stdout",
     "output_type": "stream",
     "text": [
      "[<User 1>, <User 2>, <User 3>]\n",
      "[<City 1>, <City 2>]\n"
     ]
    }
   ],
   "source": [
    "with app.app_context():\n",
    "  db.session.add(User(\n",
    "      email='user1@example.com',\n",
    "      password='12345',\n",
    "      type='customer',\n",
    "      full_name='vidhatri',\n",
    "      address='ramanagar',\n",
    "      pin_code='123456',\n",
    "      city_id=1,\n",
    "      customer=Customer()\n",
    "  ))\n",
    "  db.session.add(User(\n",
    "      email='user2@example.com',\n",
    "      password='12345',\n",
    "      type='customer',\n",
    "      full_name='rahul',\n",
    "      address='ramanagar',\n",
    "      pin_code='123456',\n",
    "      city_id=1,\n",
    "      customer=Customer()\n",
    "  ))\n",
    "  db.session.add(User(\n",
    "      email='user3@example.com',\n",
    "      password='12345',\n",
    "      type='professional',\n",
    "      full_name='harikesh',\n",
    "      address='ramanagar',\n",
    "      pin_code='123456',\n",
    "      city_id=2,\n",
    "      professional=Professional(service_category_id=1)\n",
    "  ))\n",
    "\n",
    "  db.session.add(City(name='hbh'))\n",
    "  db.session.add(City(name='albd'))\n",
    "  db.session.add(ServiceCategory(name='Plumbing services', services=[\n",
    "      Service(name='Tap repair'),\n",
    "      Service(name='Heater setup'),\n",
    "      Service(name='Pipe leakage')\n",
    "  ]))\n",
    "  db.session.commit()\n",
    "\n",
    "  users = User.query.all()\n",
    "  cities = City.query.all()\n",
    "  print(users)\n",
    "  print(cities)"
   ]
  },
  {
   "cell_type": "markdown",
   "metadata": {},
   "source": [
    "# testing/querying"
   ]
  },
  {
   "cell_type": "code",
   "execution_count": 22,
   "metadata": {},
   "outputs": [],
   "source": [
    "with app.app_context():\n",
    "  customers = Customer.query.all()\n",
    "  professionals = Professional.query.all()\n",
    "  service_categories = ServiceCategory.query.all()\n",
    "  services = Service.query.all()"
   ]
  },
  {
   "cell_type": "code",
   "execution_count": 23,
   "metadata": {},
   "outputs": [
    {
     "name": "stdout",
     "output_type": "stream",
     "text": [
      "vidhatri from hbh\n"
     ]
    }
   ],
   "source": [
    "# name of user with email = user1@example.com\n",
    "with app.app_context():\n",
    "  user = User.query.filter_by(email='user1@example.com').first()\n",
    "  print(f'{user.full_name} from {user.city.name}')"
   ]
  },
  {
   "cell_type": "code",
   "execution_count": 24,
   "metadata": {},
   "outputs": [
    {
     "name": "stdout",
     "output_type": "stream",
     "text": [
      "vidhatri from hbh\n",
      "rahul from hbh\n"
     ]
    }
   ],
   "source": [
    "# user from city id=1\n",
    "with app.app_context():\n",
    "  city = City.query.filter_by(id=1).first()\n",
    "  for user in city.users:\n",
    "    print(f'{user.full_name} from {city.name}')"
   ]
  }
 ],
 "metadata": {
  "kernelspec": {
   "display_name": "Python 3",
   "language": "python",
   "name": "python3"
  },
  "language_info": {
   "codemirror_mode": {
    "name": "ipython",
    "version": 3
   },
   "file_extension": ".py",
   "mimetype": "text/x-python",
   "name": "python",
   "nbconvert_exporter": "python",
   "pygments_lexer": "ipython3",
   "version": "3.12.6"
  }
 },
 "nbformat": 4,
 "nbformat_minor": 2
}
